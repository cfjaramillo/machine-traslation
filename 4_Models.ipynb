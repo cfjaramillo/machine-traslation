{
  "nbformat": 4,
  "nbformat_minor": 0,
  "metadata": {
    "colab": {
      "provenance": [],
      "collapsed_sections": []
    },
    "kernelspec": {
      "name": "python3",
      "display_name": "Python 3"
    },
    "language_info": {
      "name": "python"
    },
    "accelerator": "GPU"
  },
  "cells": [
    {
      "cell_type": "markdown",
      "source": [
        "# **LIBRARIES**"
      ],
      "metadata": {
        "id": "ApJ8vEViO7X_"
      }
    },
    {
      "cell_type": "code",
      "source": [
        "import collections\n",
        "import helper\n",
        "import numpy as np\n",
        "from keras.preprocessing.text import Tokenizer\n",
        "from keras.preprocessing.sequence import pad_sequences\n",
        "from keras.models import Model\n",
        "from keras.layers import GRU, Input, Dense, TimeDistributed, Activation, RepeatVector, Bidirectional\n",
        "from keras.layers.embeddings import Embedding\n",
        "from tensorflow.keras.optimizers import Adam\n",
        "from keras.losses import sparse_categorical_crossentropy"
      ],
      "metadata": {
        "id": "K8oazs19O9uf"
      },
      "execution_count": 107,
      "outputs": []
    },
    {
      "cell_type": "markdown",
      "source": [
        "# **LOAD DATA**"
      ],
      "metadata": {
        "id": "RsowZeDdPJGn"
      }
    },
    {
      "cell_type": "code",
      "source": [
        "import os\n",
        "\n",
        "def load_data(path):\n",
        "    \"\"\"\n",
        "    Load dataset\n",
        "    \"\"\"\n",
        "    input_file = os.path.join(path)\n",
        "    with open(input_file, \"r\", encoding='utf-8') as f:\n",
        "        data = f.read()\n",
        "    return data.split('\\n')\n",
        "def load_data_array(path,index):\n",
        "    \"\"\"\n",
        "    Load dataset\n",
        "    \"\"\"\n",
        "    input_file = os.path.join(path)\n",
        "    with open(input_file, \"r\", encoding='utf-8') as f:\n",
        "        data = f.read()\n",
        "        array = []\n",
        "        for sentence in data:\n",
        "          result = sentence.split(';')\n",
        "          array.append(result[index])\n",
        "    return array"
      ],
      "metadata": {
        "id": "cRPjwcWRPLzn"
      },
      "execution_count": 108,
      "outputs": []
    },
    {
      "cell_type": "code",
      "source": [
        "# english_sentences = load_data('es.txt')\n",
        "# french_sentences = load_data('nasa.txt')\n",
        "english_sentences = load_data('en.txt')\n",
        "french_sentences = load_data('fr.txt')\n",
        "print('Dataset Loaded')"
      ],
      "metadata": {
        "colab": {
          "base_uri": "https://localhost:8080/"
        },
        "id": "NJzHeqv6Pzbv",
        "outputId": "f7b91bba-b041-4f19-f7fc-afa6b465e2ca"
      },
      "execution_count": 149,
      "outputs": [
        {
          "output_type": "stream",
          "name": "stdout",
          "text": [
            "Dataset Loaded\n"
          ]
        }
      ]
    },
    {
      "cell_type": "code",
      "source": [
        "for sample_i in range(2):\n",
        "    print('small_vocab_en Line {}:  {}'.format(sample_i + 1, english_sentences[sample_i]))\n",
        "    print('small_vocab_fr Line {}:  {}'.format(sample_i + 1, french_sentences[sample_i]))"
      ],
      "metadata": {
        "colab": {
          "base_uri": "https://localhost:8080/"
        },
        "id": "8A4QkC-LQqEI",
        "outputId": "80013069-bde5-4b8e-9d2d-1517bdbc1c1a"
      },
      "execution_count": 150,
      "outputs": [
        {
          "output_type": "stream",
          "name": "stdout",
          "text": [
            "small_vocab_en Line 1:  new jersey is sometimes quiet during autumn , and it is snowy in april .\n",
            "small_vocab_fr Line 1:  new jersey est parfois calme pendant l' automne , et il est neigeux en avril .\n",
            "small_vocab_en Line 2:  the united states is usually chilly during july , and it is usually freezing in november .\n",
            "small_vocab_fr Line 2:  les états-unis est généralement froid en juillet , et il gèle habituellement en novembre .\n"
          ]
        }
      ]
    },
    {
      "cell_type": "markdown",
      "source": [
        "# **VOCABULARY**"
      ],
      "metadata": {
        "id": "T9cm5EdbQtZ3"
      }
    },
    {
      "cell_type": "code",
      "source": [
        "english_words_counter = collections.Counter([word for sentence in english_sentences for word in sentence.split()])\n",
        "french_words_counter = collections.Counter([word for sentence in french_sentences for word in sentence.split()])\n",
        "print('{} English words.'.format(len([word for sentence in english_sentences for word in sentence.split()])))\n",
        "print('{} unique English words.'.format(len(english_words_counter)))\n",
        "print('10 Most common words in the English dataset:')\n",
        "print('\"' + '\" \"'.join(list(zip(*english_words_counter.most_common(10)))[0]) + '\"')\n",
        "print()\n",
        "print('{} French words.'.format(len([word for sentence in french_sentences for word in sentence.split()])))\n",
        "print('{} unique French words.'.format(len(french_words_counter)))\n",
        "print('10 Most common words in the French dataset:')\n",
        "print('\"' + '\" \"'.join(list(zip(*french_words_counter.most_common(10)))[0]) + '\"')"
      ],
      "metadata": {
        "colab": {
          "base_uri": "https://localhost:8080/"
        },
        "id": "ml1jg0C-QwQg",
        "outputId": "6ab3aa6a-72d4-4cbc-ede2-9028f49fa38c"
      },
      "execution_count": 151,
      "outputs": [
        {
          "output_type": "stream",
          "name": "stdout",
          "text": [
            "1823250 English words.\n",
            "227 unique English words.\n",
            "10 Most common words in the English dataset:\n",
            "\"is\" \",\" \".\" \"in\" \"it\" \"during\" \"the\" \"but\" \"and\" \"sometimes\"\n",
            "\n",
            "1961295 French words.\n",
            "355 unique French words.\n",
            "10 Most common words in the French dataset:\n",
            "\"est\" \".\" \",\" \"en\" \"il\" \"les\" \"mais\" \"et\" \"la\" \"parfois\"\n"
          ]
        }
      ]
    },
    {
      "cell_type": "markdown",
      "source": [
        "# **TOKENIZE**"
      ],
      "metadata": {
        "id": "Z6H6-m0IQ0Ox"
      }
    },
    {
      "cell_type": "code",
      "source": [
        "def tokenize(x):\n",
        "    x_tk = Tokenizer(char_level = False)\n",
        "    x_tk.fit_on_texts(x)\n",
        "    return x_tk.texts_to_sequences(x), x_tk\n",
        "text_sentences = [\n",
        "    'The quick brown fox jumps over the lazy dog .',\n",
        "    'By Jove , my quick study of lexicography won a prize .',\n",
        "    'This is a short sentence .']\n",
        "text_tokenized, text_tokenizer = tokenize(text_sentences)\n",
        "print(text_tokenizer.word_index)\n",
        "print()\n",
        "for sample_i, (sent, token_sent) in enumerate(zip(text_sentences, text_tokenized)):\n",
        "    print('Sequence {} in x'.format(sample_i + 1))\n",
        "    print('  Input:  {}'.format(sent))\n",
        "    print('  Output: {}'.format(token_sent))"
      ],
      "metadata": {
        "colab": {
          "base_uri": "https://localhost:8080/"
        },
        "id": "sL-tlq2VQ2ZA",
        "outputId": "079791aa-33a3-428e-dd02-b4a69296e2d3"
      },
      "execution_count": 152,
      "outputs": [
        {
          "output_type": "stream",
          "name": "stdout",
          "text": [
            "{'the': 1, 'quick': 2, 'a': 3, 'brown': 4, 'fox': 5, 'jumps': 6, 'over': 7, 'lazy': 8, 'dog': 9, 'by': 10, 'jove': 11, 'my': 12, 'study': 13, 'of': 14, 'lexicography': 15, 'won': 16, 'prize': 17, 'this': 18, 'is': 19, 'short': 20, 'sentence': 21}\n",
            "\n",
            "Sequence 1 in x\n",
            "  Input:  The quick brown fox jumps over the lazy dog .\n",
            "  Output: [1, 2, 4, 5, 6, 7, 1, 8, 9]\n",
            "Sequence 2 in x\n",
            "  Input:  By Jove , my quick study of lexicography won a prize .\n",
            "  Output: [10, 11, 12, 2, 13, 14, 15, 16, 3, 17]\n",
            "Sequence 3 in x\n",
            "  Input:  This is a short sentence .\n",
            "  Output: [18, 19, 3, 20, 21]\n"
          ]
        }
      ]
    },
    {
      "cell_type": "markdown",
      "source": [
        "# **PADDING**"
      ],
      "metadata": {
        "id": "GQVn3Y7fQ6OA"
      }
    },
    {
      "cell_type": "code",
      "source": [
        "def pad(x, length=None):\n",
        "    if length is None:\n",
        "        length = max([len(sentence) for sentence in x])\n",
        "    return pad_sequences(x, maxlen = length, padding = 'post')\n",
        "\n",
        "# Pad Tokenized output\n",
        "test_pad = pad(text_tokenized)\n",
        "for sample_i, (token_sent, pad_sent) in enumerate(zip(text_tokenized, test_pad)):\n",
        "    print('Sequence {} in x'.format(sample_i + 1))\n",
        "    print('  Input:  {}'.format(np.array(token_sent)))\n",
        "    print('  Output: {}'.format(pad_sent))"
      ],
      "metadata": {
        "colab": {
          "base_uri": "https://localhost:8080/"
        },
        "id": "rstJLLH0Q8LZ",
        "outputId": "e2f93263-e50f-4b5a-e849-43ee400f012b"
      },
      "execution_count": 153,
      "outputs": [
        {
          "output_type": "stream",
          "name": "stdout",
          "text": [
            "Sequence 1 in x\n",
            "  Input:  [1 2 4 5 6 7 1 8 9]\n",
            "  Output: [1 2 4 5 6 7 1 8 9 0]\n",
            "Sequence 2 in x\n",
            "  Input:  [10 11 12  2 13 14 15 16  3 17]\n",
            "  Output: [10 11 12  2 13 14 15 16  3 17]\n",
            "Sequence 3 in x\n",
            "  Input:  [18 19  3 20 21]\n",
            "  Output: [18 19  3 20 21  0  0  0  0  0]\n"
          ]
        }
      ]
    },
    {
      "cell_type": "markdown",
      "source": [
        "# **PRE PROCESS**"
      ],
      "metadata": {
        "id": "ZtwXjskxRACo"
      }
    },
    {
      "cell_type": "code",
      "source": [
        "def preprocess(x, y):\n",
        "    preprocess_x, x_tk = tokenize(x)\n",
        "    preprocess_y, y_tk = tokenize(y)\n",
        "    preprocess_x = pad(preprocess_x)\n",
        "    preprocess_y = pad(preprocess_y)\n",
        "# Keras's sparse_categorical_crossentropy function requires the labels to be in 3 dimensions\n",
        "    preprocess_y = preprocess_y.reshape(*preprocess_y.shape, 1)\n",
        "    return preprocess_x, preprocess_y, x_tk, y_tk\n",
        "preproc_english_sentences, preproc_french_sentences, english_tokenizer, french_tokenizer =\\\n",
        "    preprocess(english_sentences, french_sentences)\n",
        "    \n",
        "max_english_sequence_length = preproc_english_sentences.shape[1]\n",
        "max_french_sequence_length = preproc_french_sentences.shape[1]\n",
        "english_vocab_size = len(english_tokenizer.word_index)\n",
        "french_vocab_size = len(french_tokenizer.word_index)\n",
        "print('Data Preprocessed')\n",
        "print(\"Max English sentence length:\", max_english_sequence_length)\n",
        "print(\"Max French sentence length:\", max_french_sequence_length)\n",
        "print(\"English vocabulary size:\", english_vocab_size)\n",
        "print(\"French vocabulary size:\", french_vocab_size)"
      ],
      "metadata": {
        "colab": {
          "base_uri": "https://localhost:8080/"
        },
        "id": "EXWLB_9CRCEg",
        "outputId": "020c30da-56b8-40d6-cdf5-d3cbe56e1653"
      },
      "execution_count": 154,
      "outputs": [
        {
          "output_type": "stream",
          "name": "stdout",
          "text": [
            "Data Preprocessed\n",
            "Max English sentence length: 15\n",
            "Max French sentence length: 21\n",
            "English vocabulary size: 199\n",
            "French vocabulary size: 344\n"
          ]
        }
      ]
    },
    {
      "cell_type": "markdown",
      "source": [
        "# **IDS BACK TO TEXT**"
      ],
      "metadata": {
        "id": "H2SJNRxfRWo4"
      }
    },
    {
      "cell_type": "code",
      "source": [
        "def logits_to_text(logits, tokenizer):\n",
        "    index_to_words = {id: word for word, id in tokenizer.word_index.items()}\n",
        "    index_to_words[0] = '<PAD>'\n",
        "    return ' '.join([index_to_words[prediction] for prediction in np.argmax(logits, 1)])\n",
        "print('`logits_to_text` function loaded.')"
      ],
      "metadata": {
        "colab": {
          "base_uri": "https://localhost:8080/"
        },
        "id": "xUUHYfpgRYwx",
        "outputId": "c7f4fe66-07f5-4d8c-a6db-e3c574ee7813"
      },
      "execution_count": 115,
      "outputs": [
        {
          "output_type": "stream",
          "name": "stdout",
          "text": [
            "`logits_to_text` function loaded.\n"
          ]
        }
      ]
    },
    {
      "cell_type": "markdown",
      "source": [
        "# **RNN**"
      ],
      "metadata": {
        "id": "Cd9StZlTRc8B"
      }
    },
    {
      "cell_type": "code",
      "source": [
        "def simple_model(input_shape, output_sequence_length, english_vocab_size, french_vocab_size):\n",
        "    learning_rate = 1e-3\n",
        "    input_seq = Input(input_shape[1:])\n",
        "    rnn = GRU(64, return_sequences = True)(input_seq)\n",
        "    logits = TimeDistributed(Dense(french_vocab_size))(rnn)\n",
        "    model = Model(input_seq, Activation('softmax')(logits))\n",
        "    model.compile(loss = sparse_categorical_crossentropy, \n",
        "                 optimizer = Adam(learning_rate), \n",
        "                 metrics = ['accuracy'])\n",
        "    \n",
        "    return model\n",
        "\n",
        "tmp_x = pad(preproc_english_sentences, max_french_sequence_length)\n",
        "tmp_x = tmp_x.reshape((-1, preproc_french_sentences.shape[-2], 1))\n",
        "# Train the neural network\n",
        "simple_rnn_model = simple_model(\n",
        "    tmp_x.shape,\n",
        "    max_french_sequence_length,\n",
        "    english_vocab_size,\n",
        "    french_vocab_size)\n",
        "simple_rnn_model.fit(tmp_x, preproc_french_sentences, batch_size=1024, epochs=10, validation_split=0.2)\n",
        "# Print prediction(s)\n",
        "print(logits_to_text(simple_rnn_model.predict(tmp_x[:1])[0], french_tokenizer))"
      ],
      "metadata": {
        "colab": {
          "base_uri": "https://localhost:8080/"
        },
        "id": "BkC-idweRe6A",
        "outputId": "d878ca5d-eb0e-4740-c6ed-b081177f5ff5"
      },
      "execution_count": 121,
      "outputs": [
        {
          "output_type": "stream",
          "name": "stdout",
          "text": [
            "Epoch 1/10\n",
            "1/1 [==============================] - 2s 2s/step - loss: 6.7923 - accuracy: 0.5941 - val_loss: nan - val_accuracy: 0.5656\n",
            "Epoch 2/10\n",
            "1/1 [==============================] - 0s 49ms/step - loss: 6.7872 - accuracy: 0.5941 - val_loss: nan - val_accuracy: 0.5674\n",
            "Epoch 3/10\n",
            "1/1 [==============================] - 0s 47ms/step - loss: 6.7820 - accuracy: 0.6017 - val_loss: nan - val_accuracy: 0.5709\n",
            "Epoch 4/10\n",
            "1/1 [==============================] - 0s 32ms/step - loss: 6.7766 - accuracy: 0.6097 - val_loss: nan - val_accuracy: 0.5727\n",
            "Epoch 5/10\n",
            "1/1 [==============================] - 0s 47ms/step - loss: 6.7711 - accuracy: 0.6128 - val_loss: nan - val_accuracy: 0.5762\n",
            "Epoch 6/10\n",
            "1/1 [==============================] - 0s 49ms/step - loss: 6.7654 - accuracy: 0.6142 - val_loss: nan - val_accuracy: 0.5798\n",
            "Epoch 7/10\n",
            "1/1 [==============================] - 0s 30ms/step - loss: 6.7595 - accuracy: 0.6142 - val_loss: nan - val_accuracy: 0.5798\n",
            "Epoch 8/10\n",
            "1/1 [==============================] - 0s 36ms/step - loss: 6.7533 - accuracy: 0.6142 - val_loss: nan - val_accuracy: 0.5798\n",
            "Epoch 9/10\n",
            "1/1 [==============================] - 0s 31ms/step - loss: 6.7469 - accuracy: 0.6150 - val_loss: nan - val_accuracy: 0.5798\n",
            "Epoch 10/10\n",
            "1/1 [==============================] - 0s 29ms/step - loss: 6.7401 - accuracy: 0.6155 - val_loss: nan - val_accuracy: 0.5798\n",
            "<PAD> <PAD> <PAD>\n"
          ]
        }
      ]
    },
    {
      "cell_type": "markdown",
      "source": [
        "# **EMBEDDING**"
      ],
      "metadata": {
        "id": "vZUYUORBRqZQ"
      }
    },
    {
      "cell_type": "code",
      "source": [
        "from keras.models import Sequential\n",
        "def embed_model(input_shape, output_sequence_length, english_vocab_size, french_vocab_size):\n",
        "    learning_rate = 1e-3\n",
        "    rnn = GRU(64, return_sequences=True, activation=\"tanh\")\n",
        "    \n",
        "    embedding = Embedding(french_vocab_size, 64, input_length=input_shape[1]) \n",
        "    logits = TimeDistributed(Dense(french_vocab_size, activation=\"softmax\"))\n",
        "    \n",
        "    model = Sequential()\n",
        "    #em can only be used in first layer --> Keras Documentation\n",
        "    model.add(embedding)\n",
        "    model.add(rnn)\n",
        "    model.add(logits)\n",
        "    model.compile(loss=sparse_categorical_crossentropy,\n",
        "                  optimizer=Adam(learning_rate),\n",
        "                  metrics=['accuracy'])\n",
        "    \n",
        "    return model\n",
        "\n",
        "tmp_x = pad(preproc_english_sentences, max_french_sequence_length)\n",
        "tmp_x = tmp_x.reshape((-1, preproc_french_sentences.shape[-2]))\n",
        "embeded_model = embed_model(\n",
        "    tmp_x.shape,\n",
        "    max_french_sequence_length,\n",
        "    english_vocab_size,\n",
        "    french_vocab_size)\n",
        "embeded_model.fit(tmp_x, preproc_french_sentences, batch_size=1024, epochs=10, validation_split=0.2)\n",
        "print(logits_to_text(embeded_model.predict(tmp_x[:1])[0], french_tokenizer))"
      ],
      "metadata": {
        "colab": {
          "base_uri": "https://localhost:8080/"
        },
        "id": "W6ni0kCYRsMZ",
        "outputId": "b45a15e3-4c7c-4f28-e4c4-c11620d7f661"
      },
      "execution_count": 122,
      "outputs": [
        {
          "output_type": "stream",
          "name": "stdout",
          "text": [
            "Epoch 1/10\n",
            "1/1 [==============================] - 2s 2s/step - loss: 6.7990 - accuracy: 4.4504e-04 - val_loss: nan - val_accuracy: 0.0000e+00\n",
            "Epoch 2/10\n",
            "1/1 [==============================] - 0s 36ms/step - loss: 6.7924 - accuracy: 4.4504e-04 - val_loss: nan - val_accuracy: 0.0053\n",
            "Epoch 3/10\n",
            "1/1 [==============================] - 0s 33ms/step - loss: 6.7858 - accuracy: 0.0116 - val_loss: nan - val_accuracy: 0.5762\n",
            "Epoch 4/10\n",
            "1/1 [==============================] - 0s 32ms/step - loss: 6.7791 - accuracy: 0.6182 - val_loss: nan - val_accuracy: 0.5833\n",
            "Epoch 5/10\n",
            "1/1 [==============================] - 0s 36ms/step - loss: 6.7722 - accuracy: 0.6190 - val_loss: nan - val_accuracy: 0.5833\n",
            "Epoch 6/10\n",
            "1/1 [==============================] - 0s 38ms/step - loss: 6.7650 - accuracy: 0.6195 - val_loss: nan - val_accuracy: 0.5833\n",
            "Epoch 7/10\n",
            "1/1 [==============================] - 0s 34ms/step - loss: 6.7573 - accuracy: 0.6195 - val_loss: nan - val_accuracy: 0.5833\n",
            "Epoch 8/10\n",
            "1/1 [==============================] - 0s 34ms/step - loss: 6.7492 - accuracy: 0.6195 - val_loss: nan - val_accuracy: 0.5833\n",
            "Epoch 9/10\n",
            "1/1 [==============================] - 0s 33ms/step - loss: 6.7404 - accuracy: 0.6195 - val_loss: nan - val_accuracy: 0.5833\n",
            "Epoch 10/10\n",
            "1/1 [==============================] - 0s 33ms/step - loss: 6.7310 - accuracy: 0.6195 - val_loss: nan - val_accuracy: 0.5833\n",
            "<PAD> <PAD> <PAD>\n"
          ]
        }
      ]
    },
    {
      "cell_type": "markdown",
      "source": [
        "# **BIDIRECTIONAL RNN**"
      ],
      "metadata": {
        "id": "pnHsoUW-R2ox"
      }
    },
    {
      "cell_type": "code",
      "source": [
        "def bd_model(input_shape, output_sequence_length, english_vocab_size, french_vocab_size):\n",
        "   \n",
        "    learning_rate = 1e-3\n",
        "    model = Sequential()\n",
        "    model.add(Bidirectional(GRU(128, return_sequences = True, dropout = 0.1), \n",
        "                           input_shape = input_shape[1:]))\n",
        "    model.add(TimeDistributed(Dense(french_vocab_size, activation = 'softmax')))\n",
        "    model.compile(loss = sparse_categorical_crossentropy, \n",
        "                 optimizer = Adam(learning_rate), \n",
        "                 metrics = ['accuracy'])\n",
        "    return model\n",
        "\n",
        "tmp_x = pad(preproc_english_sentences, preproc_french_sentences.shape[1])\n",
        "tmp_x = tmp_x.reshape((-1, preproc_french_sentences.shape[-2], 1))\n",
        "bidi_model = bd_model(\n",
        "    tmp_x.shape,\n",
        "    preproc_french_sentences.shape[1],\n",
        "    len(english_tokenizer.word_index)+1,\n",
        "    len(french_tokenizer.word_index)+1)\n",
        "bidi_model.fit(tmp_x, preproc_french_sentences, batch_size=1024, epochs=20, validation_split=0.2)\n",
        "# Print prediction(s)\n",
        "print(logits_to_text(bidi_model.predict(tmp_x[:1])[0], french_tokenizer))"
      ],
      "metadata": {
        "colab": {
          "base_uri": "https://localhost:8080/"
        },
        "id": "OrlpOo7IR67p",
        "outputId": "36ecf447-3714-40c9-fcc6-123ac41e8e49"
      },
      "execution_count": 123,
      "outputs": [
        {
          "output_type": "stream",
          "name": "stdout",
          "text": [
            "Epoch 1/20\n",
            "1/1 [==============================] - 4s 4s/step - loss: 6.7989 - accuracy: 0.5968 - val_loss: 6.7868 - val_accuracy: 0.5656\n",
            "Epoch 2/20\n",
            "1/1 [==============================] - 0s 36ms/step - loss: 6.7857 - accuracy: 0.5950 - val_loss: 6.7762 - val_accuracy: 0.5674\n",
            "Epoch 3/20\n",
            "1/1 [==============================] - 0s 36ms/step - loss: 6.7714 - accuracy: 0.5986 - val_loss: 6.7655 - val_accuracy: 0.5691\n",
            "Epoch 4/20\n",
            "1/1 [==============================] - 0s 34ms/step - loss: 6.7578 - accuracy: 0.6075 - val_loss: 6.7544 - val_accuracy: 0.5816\n",
            "Epoch 5/20\n",
            "1/1 [==============================] - 0s 36ms/step - loss: 6.7425 - accuracy: 0.6159 - val_loss: 6.7430 - val_accuracy: 0.5816\n",
            "Epoch 6/20\n",
            "1/1 [==============================] - 0s 35ms/step - loss: 6.7286 - accuracy: 0.6164 - val_loss: 6.7312 - val_accuracy: 0.5816\n",
            "Epoch 7/20\n",
            "1/1 [==============================] - 0s 34ms/step - loss: 6.7127 - accuracy: 0.6168 - val_loss: 6.7188 - val_accuracy: 0.5816\n",
            "Epoch 8/20\n",
            "1/1 [==============================] - 0s 35ms/step - loss: 6.6956 - accuracy: 0.6182 - val_loss: 6.7057 - val_accuracy: 0.5816\n",
            "Epoch 9/20\n",
            "1/1 [==============================] - 0s 34ms/step - loss: 6.6812 - accuracy: 0.6182 - val_loss: 6.6920 - val_accuracy: 0.5816\n",
            "Epoch 10/20\n",
            "1/1 [==============================] - 0s 38ms/step - loss: 6.6588 - accuracy: 0.6182 - val_loss: 6.6775 - val_accuracy: 0.5833\n",
            "Epoch 11/20\n",
            "1/1 [==============================] - 0s 33ms/step - loss: 6.6393 - accuracy: 0.6199 - val_loss: 6.6621 - val_accuracy: 0.5833\n",
            "Epoch 12/20\n",
            "1/1 [==============================] - 0s 36ms/step - loss: 6.6202 - accuracy: 0.6190 - val_loss: 6.6457 - val_accuracy: 0.5833\n",
            "Epoch 13/20\n",
            "1/1 [==============================] - 0s 34ms/step - loss: 6.5995 - accuracy: 0.6190 - val_loss: 6.6282 - val_accuracy: 0.5833\n",
            "Epoch 14/20\n",
            "1/1 [==============================] - 0s 38ms/step - loss: 6.5747 - accuracy: 0.6190 - val_loss: 6.6095 - val_accuracy: 0.5833\n",
            "Epoch 15/20\n",
            "1/1 [==============================] - 0s 35ms/step - loss: 6.5535 - accuracy: 0.6186 - val_loss: 6.5895 - val_accuracy: 0.5833\n",
            "Epoch 16/20\n",
            "1/1 [==============================] - 0s 34ms/step - loss: 6.5354 - accuracy: 0.6186 - val_loss: 6.5680 - val_accuracy: 0.5833\n",
            "Epoch 17/20\n",
            "1/1 [==============================] - 0s 33ms/step - loss: 6.4970 - accuracy: 0.6190 - val_loss: 6.5448 - val_accuracy: 0.5833\n",
            "Epoch 18/20\n",
            "1/1 [==============================] - 0s 36ms/step - loss: 6.4665 - accuracy: 0.6195 - val_loss: 6.5199 - val_accuracy: 0.5833\n",
            "Epoch 19/20\n",
            "1/1 [==============================] - 0s 40ms/step - loss: 6.4340 - accuracy: 0.6195 - val_loss: 6.4931 - val_accuracy: 0.5833\n",
            "Epoch 20/20\n",
            "1/1 [==============================] - 0s 36ms/step - loss: 6.3969 - accuracy: 0.6186 - val_loss: 6.4642 - val_accuracy: 0.5833\n",
            "<PAD> <PAD> <PAD>\n"
          ]
        }
      ]
    },
    {
      "cell_type": "markdown",
      "source": [
        "# **ENCODER DECODER**"
      ],
      "metadata": {
        "id": "ggVMVJ37SNC4"
      }
    },
    {
      "cell_type": "code",
      "source": [
        "def encdec_model(input_shape, output_sequence_length, english_vocab_size, french_vocab_size):\n",
        "  \n",
        "    learning_rate = 1e-3\n",
        "    model = Sequential()\n",
        "    model.add(GRU(128, input_shape = input_shape[1:], return_sequences = False))\n",
        "    model.add(RepeatVector(output_sequence_length))\n",
        "    model.add(GRU(128, return_sequences = True))\n",
        "    model.add(TimeDistributed(Dense(french_vocab_size, activation = 'softmax')))\n",
        "    \n",
        "    model.compile(loss = sparse_categorical_crossentropy, \n",
        "                 optimizer = Adam(learning_rate), \n",
        "                 metrics = ['accuracy'])\n",
        "    return model\n",
        "\n",
        "tmp_x = pad(preproc_english_sentences)\n",
        "tmp_x = tmp_x.reshape((-1, preproc_english_sentences.shape[1], 1))\n",
        "encodeco_model = encdec_model(\n",
        "    tmp_x.shape,\n",
        "    preproc_french_sentences.shape[1],\n",
        "    len(english_tokenizer.word_index)+1,\n",
        "    len(french_tokenizer.word_index)+1)\n",
        "encodeco_model.fit(tmp_x, preproc_french_sentences, batch_size=1024, epochs=20, validation_split=0.2)\n",
        "print(logits_to_text(encodeco_model.predict(tmp_x[:1])[0], french_tokenizer))"
      ],
      "metadata": {
        "colab": {
          "base_uri": "https://localhost:8080/"
        },
        "id": "IfIL9G7fSO0Z",
        "outputId": "9ea3b381-308a-48bc-c6b5-cbc9091b2bfe"
      },
      "execution_count": 124,
      "outputs": [
        {
          "output_type": "stream",
          "name": "stdout",
          "text": [
            "Epoch 1/20\n",
            "1/1 [==============================] - 3s 3s/step - loss: 6.7941 - accuracy: 0.0000e+00 - val_loss: 6.7347 - val_accuracy: 0.5691\n",
            "Epoch 2/20\n",
            "1/1 [==============================] - 0s 40ms/step - loss: 6.7295 - accuracy: 0.6119 - val_loss: 6.6682 - val_accuracy: 0.5762\n",
            "Epoch 3/20\n",
            "1/1 [==============================] - 0s 36ms/step - loss: 6.6578 - accuracy: 0.6182 - val_loss: 6.5880 - val_accuracy: 0.5833\n",
            "Epoch 4/20\n",
            "1/1 [==============================] - 0s 42ms/step - loss: 6.5712 - accuracy: 0.6195 - val_loss: 6.4862 - val_accuracy: 0.5833\n",
            "Epoch 5/20\n",
            "1/1 [==============================] - 0s 39ms/step - loss: 6.4614 - accuracy: 0.6195 - val_loss: 6.3540 - val_accuracy: 0.5833\n",
            "Epoch 6/20\n",
            "1/1 [==============================] - 0s 37ms/step - loss: 6.3190 - accuracy: 0.6195 - val_loss: 6.1812 - val_accuracy: 0.5833\n",
            "Epoch 7/20\n",
            "1/1 [==============================] - 0s 35ms/step - loss: 6.1334 - accuracy: 0.6195 - val_loss: 5.9562 - val_accuracy: 0.5833\n",
            "Epoch 8/20\n",
            "1/1 [==============================] - 0s 37ms/step - loss: 5.8922 - accuracy: 0.6195 - val_loss: 5.6680 - val_accuracy: 0.5833\n",
            "Epoch 9/20\n",
            "1/1 [==============================] - 0s 37ms/step - loss: 5.5836 - accuracy: 0.6195 - val_loss: 5.3118 - val_accuracy: 0.5833\n",
            "Epoch 10/20\n",
            "1/1 [==============================] - 0s 40ms/step - loss: 5.2026 - accuracy: 0.6195 - val_loss: 4.8981 - val_accuracy: 0.5833\n",
            "Epoch 11/20\n",
            "1/1 [==============================] - 0s 41ms/step - loss: 4.7596 - accuracy: 0.6195 - val_loss: 4.4614 - val_accuracy: 0.5833\n",
            "Epoch 12/20\n",
            "1/1 [==============================] - 0s 36ms/step - loss: 4.2907 - accuracy: 0.6195 - val_loss: 4.0558 - val_accuracy: 0.5833\n",
            "Epoch 13/20\n",
            "1/1 [==============================] - 0s 39ms/step - loss: 3.8528 - accuracy: 0.6195 - val_loss: 3.7299 - val_accuracy: 0.5833\n",
            "Epoch 14/20\n",
            "1/1 [==============================] - 0s 38ms/step - loss: 3.4973 - accuracy: 0.6195 - val_loss: 3.5010 - val_accuracy: 0.5833\n",
            "Epoch 15/20\n",
            "1/1 [==============================] - 0s 36ms/step - loss: 3.2426 - accuracy: 0.6195 - val_loss: 3.3582 - val_accuracy: 0.5833\n",
            "Epoch 16/20\n",
            "1/1 [==============================] - 0s 36ms/step - loss: 3.0762 - accuracy: 0.6195 - val_loss: 3.2812 - val_accuracy: 0.5833\n",
            "Epoch 17/20\n",
            "1/1 [==============================] - 0s 52ms/step - loss: 2.9758 - accuracy: 0.6195 - val_loss: 3.2521 - val_accuracy: 0.5833\n",
            "Epoch 18/20\n",
            "1/1 [==============================] - 0s 38ms/step - loss: 2.9223 - accuracy: 0.6195 - val_loss: 3.2574 - val_accuracy: 0.5833\n",
            "Epoch 19/20\n",
            "1/1 [==============================] - 0s 35ms/step - loss: 2.9011 - accuracy: 0.6195 - val_loss: 3.2857 - val_accuracy: 0.5833\n",
            "Epoch 20/20\n",
            "1/1 [==============================] - 0s 37ms/step - loss: 2.9005 - accuracy: 0.6195 - val_loss: 3.3272 - val_accuracy: 0.5833\n",
            "<PAD> <PAD> <PAD>\n"
          ]
        }
      ]
    },
    {
      "cell_type": "markdown",
      "source": [
        "# **CUSTOM**"
      ],
      "metadata": {
        "id": "bN5td6FzSfhg"
      }
    },
    {
      "cell_type": "code",
      "source": [
        "def model_final(input_shape, output_sequence_length, english_vocab_size, french_vocab_size):\n",
        "  \n",
        "    model = Sequential()\n",
        "    model.add(Embedding(input_dim=english_vocab_size,output_dim=128,input_length=input_shape[1]))\n",
        "    model.add(Bidirectional(GRU(512,return_sequences=False)))\n",
        "    model.add(RepeatVector(output_sequence_length))\n",
        "    model.add(Bidirectional(GRU(512,return_sequences=True)))\n",
        "    model.add(TimeDistributed(Dense(french_vocab_size,activation='softmax')))\n",
        "    learning_rate = 0.005\n",
        "    \n",
        "    model.compile(loss = sparse_categorical_crossentropy, \n",
        "                 optimizer = Adam(learning_rate), \n",
        "                 metrics = ['accuracy'])\n",
        "    \n",
        "    return model\n",
        "\n",
        "print('Final Model Loaded')"
      ],
      "metadata": {
        "colab": {
          "base_uri": "https://localhost:8080/"
        },
        "id": "Le0eJjyDShoC",
        "outputId": "3eaedbed-0d8f-40a8-9b0f-a29e2173f800"
      },
      "execution_count": 155,
      "outputs": [
        {
          "output_type": "stream",
          "name": "stdout",
          "text": [
            "Final Model Loaded\n"
          ]
        }
      ]
    },
    {
      "cell_type": "markdown",
      "source": [
        "# **PREDICTION**"
      ],
      "metadata": {
        "id": "nQV-nkUWSlAJ"
      }
    },
    {
      "cell_type": "code",
      "source": [
        "def final_predictions(x, y, x_tk, y_tk):\n",
        "    tmp_X = pad(preproc_english_sentences)\n",
        "    model = model_final(tmp_X.shape,\n",
        "                        preproc_french_sentences.shape[1],\n",
        "                        len(english_tokenizer.word_index)+1,\n",
        "                        len(french_tokenizer.word_index)+1)\n",
        "    \n",
        "    model.fit(tmp_X, preproc_french_sentences, batch_size = 1024, epochs = 20, validation_split = 0.2)\n",
        " \n",
        "    y_id_to_word = {value: key for key, value in y_tk.word_index.items()}\n",
        "    y_id_to_word[0] = '<PAD>'\n",
        "    sentence = 'we like oranges mangoes and grapes '\n",
        "    sentence = [x_tk.word_index[word] for word in sentence.split()]\n",
        "    sentence = pad_sequences([sentence], maxlen=x.shape[-1], padding='post')\n",
        "    sentences = np.array([sentence[0], x[0]])\n",
        "    predictions = model.predict(sentences, len(sentences))\n",
        "    print('Result 1:')\n",
        "    print(' '.join([y_id_to_word[np.argmax(x)] for x in predictions[0]]))\n",
        "    # print('Result 2:')\n",
        "    # print(' '.join([y_id_to_word[np.argmax(x)] for x in predictions[1]]))\n",
        "    # print(' '.join([y_id_to_word[np.max(x)] for x in y[0]]))\n",
        "final_predictions(preproc_english_sentences, preproc_french_sentences, english_tokenizer, french_tokenizer)"
      ],
      "metadata": {
        "colab": {
          "base_uri": "https://localhost:8080/"
        },
        "id": "YBoUIjeeSm1p",
        "outputId": "02378017-b720-4f1f-ab59-4d2510ce943b"
      },
      "execution_count": 157,
      "outputs": [
        {
          "output_type": "stream",
          "name": "stdout",
          "text": [
            "Epoch 1/20\n",
            "108/108 [==============================] - 35s 271ms/step - loss: 3.7019 - accuracy: 0.4300 - val_loss: 2.9008 - val_accuracy: 0.4753\n",
            "Epoch 2/20\n",
            "108/108 [==============================] - 30s 281ms/step - loss: 2.7780 - accuracy: 0.4905 - val_loss: 2.5923 - val_accuracy: 0.5363\n",
            "Epoch 3/20\n",
            "108/108 [==============================] - 29s 271ms/step - loss: 2.5381 - accuracy: 0.5439 - val_loss: 2.4311 - val_accuracy: 0.5720\n",
            "Epoch 4/20\n",
            "108/108 [==============================] - 29s 269ms/step - loss: 2.3876 - accuracy: 0.5794 - val_loss: 2.4237 - val_accuracy: 0.5613\n",
            "Epoch 5/20\n",
            "108/108 [==============================] - 30s 276ms/step - loss: 2.2847 - accuracy: 0.6002 - val_loss: 2.2254 - val_accuracy: 0.6035\n",
            "Epoch 6/20\n",
            "108/108 [==============================] - 30s 274ms/step - loss: 2.1709 - accuracy: 0.6222 - val_loss: 2.0787 - val_accuracy: 0.6603\n",
            "Epoch 7/20\n",
            "108/108 [==============================] - 29s 273ms/step - loss: 2.0756 - accuracy: 0.6457 - val_loss: 2.0468 - val_accuracy: 0.6384\n",
            "Epoch 8/20\n",
            "108/108 [==============================] - 29s 272ms/step - loss: 2.0358 - accuracy: 0.6543 - val_loss: 2.0100 - val_accuracy: 0.6551\n",
            "Epoch 9/20\n",
            "108/108 [==============================] - 30s 275ms/step - loss: 1.9078 - accuracy: 0.6868 - val_loss: 1.8045 - val_accuracy: 0.7204\n",
            "Epoch 10/20\n",
            "108/108 [==============================] - 30s 274ms/step - loss: 1.8148 - accuracy: 0.7128 - val_loss: 1.7394 - val_accuracy: 0.7428\n",
            "Epoch 11/20\n",
            "108/108 [==============================] - 30s 275ms/step - loss: 1.7618 - accuracy: 0.7264 - val_loss: 1.6891 - val_accuracy: 0.7535\n",
            "Epoch 12/20\n",
            "108/108 [==============================] - 30s 273ms/step - loss: 1.6898 - accuracy: 0.7471 - val_loss: 1.6440 - val_accuracy: 0.7636\n",
            "Epoch 13/20\n",
            "108/108 [==============================] - 29s 272ms/step - loss: 1.5862 - accuracy: 0.7837 - val_loss: 1.6172 - val_accuracy: 0.7621\n",
            "Epoch 14/20\n",
            "108/108 [==============================] - 30s 275ms/step - loss: 1.5707 - accuracy: 0.7834 - val_loss: 1.5144 - val_accuracy: 0.8052\n",
            "Epoch 15/20\n",
            "108/108 [==============================] - 30s 275ms/step - loss: 1.5208 - accuracy: 0.7969 - val_loss: 1.4815 - val_accuracy: 0.8151\n",
            "Epoch 16/20\n",
            "108/108 [==============================] - 29s 272ms/step - loss: 1.5265 - accuracy: 0.7963 - val_loss: 1.4239 - val_accuracy: 0.8380\n",
            "Epoch 17/20\n",
            "108/108 [==============================] - 30s 274ms/step - loss: 1.4356 - accuracy: 0.8251 - val_loss: 1.4184 - val_accuracy: 0.8348\n",
            "Epoch 18/20\n",
            "108/108 [==============================] - 30s 274ms/step - loss: 1.4052 - accuracy: 0.8346 - val_loss: 1.3759 - val_accuracy: 0.8527\n",
            "Epoch 19/20\n",
            "108/108 [==============================] - 30s 275ms/step - loss: 1.3820 - accuracy: 0.8420 - val_loss: 1.3768 - val_accuracy: 0.8499\n",
            "Epoch 20/20\n",
            "108/108 [==============================] - 29s 273ms/step - loss: 1.3569 - accuracy: 0.8511 - val_loss: 1.3388 - val_accuracy: 0.8618\n",
            "Result 1:\n",
            "il aime les oranges les mangues et les raisins <PAD> <PAD> <PAD> <PAD> <PAD> <PAD> <PAD> <PAD> <PAD> <PAD> <PAD> <PAD>\n",
            "Result 2:\n",
            "new jersey est parfois calme au l' de et il il en en en avril <PAD> <PAD> <PAD> <PAD> <PAD> <PAD>\n",
            "new jersey est parfois calme pendant l' automne et il est neigeux en avril <PAD> <PAD> <PAD> <PAD> <PAD> <PAD> <PAD>\n"
          ]
        }
      ]
    }
  ]
}